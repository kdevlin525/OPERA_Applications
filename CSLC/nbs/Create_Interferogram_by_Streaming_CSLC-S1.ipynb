{
 "cells": [
  {
   "attachments": {},
   "cell_type": "markdown",
   "metadata": {},
   "source": [
    "# Generate inteferograms without the need to download OPERA CSLC-S1 products locally\n",
    "## This tutorial demonstrates how to query and work with the OPERA CSLC-S1 provisional data products from AWS S3 bucket.\n",
    "\n",
    "---    \n",
    "\n",
    "### Data Used in the Example:   \n",
    "\n",
    "- **10 meter (Northing) x 5 meter (Easting) North America OPERA Coregistered Single Look Complex from Sentinel-1 provisional product**\n",
    "    - This dataset contains Level-2 OPERA provisional coregistered single-look-complex (CSLC) data from Sentinel-1 (S1). <span style=\"color:red\"> The data in this example are provisional, non-validated, geocoded CSLC-S1 data covering the 2019 Ridgecrest earthquake in California</span>. \n",
    "    \n",
    "    - The OPERA project is generating geocoded burst-wise CSLC-S1 products over North America which includes USA and US Territories within 200 km from the US border, Canada, and all mainland countries from the southern US border down to and including Panama. Each pixel within a burst SLC is represented by a complex number and contains both the amplitude and phase information. The CSLC-S1 products are distributed over projected map coordinates using the Universal Transverse Mercator (UTM) projection with spacing in the X- and Y-directions of 5 m and 10 m, respectively. Each OPERA CSLC-S1 product is distributed as a HDF5 file following the CF-1.8 convention with separate groups containing the data raster layers, the low-resolution correction layers, and relevant product metadata.\n",
    "\n",
    "    - For more information about the OPERA project and other products please visit our website at https://www.jpl.nasa.gov/go/opera .\n",
    "\n",
    "- **Science Dataset (SDS) layer: Ridgecrest Earthquakes**\n",
    "    - An earthquake sequence occurred near Ridgecrest, CA that consists of two mainshocks: Mw 6.4 on July 4, 2019, and 7.1 on July 5, 2019 (local time), with numerous aftershocks. This was the largest earthquake in Southern California since the 1999 Hetcor Mine earthquake [[USGS](https://earthquake.usgs.gov/storymap/index-ridgecrest.html)]. Here, we demonstrate how to create an interferogram and calculate for the interferometric coherence using pre-event (July 04, 2019) and after event (July 16, 2019) CSLC-S1 products. \n",
    "\n",
    "Please refer to the [OPERA Product Specification Document](https://d2pn8kiwq2w21t.cloudfront.net/documents/ProductSpec_CSLC_URS314199.pdf) for details about the CSLC-S1 product.\n",
    "\n",
    "*Prepared by M. Grace Bato and K. Devlin*"
   ]
  },
  {
   "attachments": {},
   "cell_type": "markdown",
   "metadata": {},
   "source": [
    "---\n",
    "## 1. Getting Started <a id=\"getstarted\"></a>"
   ]
  },
  {
   "attachments": {},
   "cell_type": "markdown",
   "metadata": {},
   "source": [
    "### 1.1 Import Packages <a id=\"1.1\"></a>"
   ]
  },
  {
   "cell_type": "code",
   "execution_count": 1,
   "metadata": {},
   "outputs": [],
   "source": [
    "%load_ext autoreload\n",
    "%autoreload 2"
   ]
  },
  {
   "cell_type": "code",
   "execution_count": 2,
   "metadata": {},
   "outputs": [],
   "source": [
    "import numpy as np\n",
    "import glob\n",
    "import h5py\n",
    "import fsspec\n",
    "from pyproj import Proj, CRS\n",
    "import matplotlib.pyplot as plt\n",
    "import shapely.wkt as wkt\n",
    "import rasterio\n",
    "from rasterio.crs import CRS\n",
    "from rasterio.transform import from_origin\n",
    "from rasterio import merge\n",
    "import folium\n",
    "from folium import plugins\n",
    "import rioxarray\n",
    "import matplotlib as mpl\n",
    "import sys\n",
    "sys.path.append('../../')\n",
    "from src.cslc_utils import get_s3path, read_cslc, cslc_info, rasterWrite, custom_merge, colorize, getbasemaps, moving_window_mean\n",
    "\n",
    "import warnings\n",
    "warnings.filterwarnings('ignore')"
   ]
  },
  {
   "cell_type": "code",
   "execution_count": 8,
   "metadata": {},
   "outputs": [],
   "source": [
    "path1 = 's3://opera-pst-rs-pop1/products/CSLC_S1/OPERA_L2_CSLC-S1A_IW_T071-151220-IW2_VV_20190704T135212Z_v0.1_20230708T134145Z/OPERA_L2_CSLC-S1A_IW_T071-151220-IW2_VV_20190704T135212Z_v0.1_20230708T134145Z.h5'\n",
    "path2 = 's3://opera-pst-rs-pop1/products/CSLC_S1/OPERA_L2_CSLC-S1A_IW_T071-151220-IW2_VV_20190716T135212Z_v0.1_20230708T134123Z/OPERA_L2_CSLC-S1A_IW_T071-151220-IW2_VV_20190716T135212Z_v0.1_20230708T134123Z.h5'\n",
    "path3 = 's3://opera-pst-rs-pop1/products/CSLC_S1/OPERA_L2_CSLC-S1A_IW_T071-151219-IW2_VV_20190704T135209Z_v0.1_20230708T134145Z/OPERA_L2_CSLC-S1A_IW_T071-151219-IW2_VV_20190704T135209Z_v0.1_20230708T134145Z.h5'\n",
    "path4 = 's3://opera-pst-rs-pop1/products/CSLC_S1/OPERA_L2_CSLC-S1A_IW_T071-151219-IW2_VV_20190716T135210Z_v0.1_20230708T134123Z/OPERA_L2_CSLC-S1A_IW_T071-151219-IW2_VV_20190716T135210Z_v0.1_20230708T134123Z.h5'"
   ]
  },
  {
   "cell_type": "code",
   "execution_count": 4,
   "metadata": {},
   "outputs": [],
   "source": [
    "ids = ['T071-151220-IW2','T071-151219-IW2']"
   ]
  },
  {
   "cell_type": "code",
   "execution_count": 9,
   "metadata": {},
   "outputs": [
    {
     "name": "stdout",
     "output_type": "stream",
     "text": [
      "Streaming: s3://opera-pst-rs-pop1/products/CSLC_S1/OPERA_L2_CSLC-S1A_IW_T071-151220-IW2_VV_20190704T135212Z_v0.1_20230708T134145Z/OPERA_L2_CSLC-S1A_IW_T071-151220-IW2_VV_20190704T135212Z_v0.1_20230708T134145Z.h5\n",
      "Streaming: s3://opera-pst-rs-pop1/products/CSLC_S1/OPERA_L2_CSLC-S1A_IW_T071-151220-IW2_VV_20190716T135212Z_v0.1_20230708T134123Z/OPERA_L2_CSLC-S1A_IW_T071-151220-IW2_VV_20190716T135212Z_v0.1_20230708T134123Z.h5\n"
     ]
    }
   ],
   "source": [
    "cslc1 = read_cslc(path1)\n",
    "cslc2 = read_cslc(path2)\n",
    "\n",
    "xcoor, ycoor, dx, dy, epsg, bounding_polygon, orbit_direction = cslc_info(path1)\n",
    "\n",
    "ifg = cslc1*np.conj(cslc2)\n",
    "phase = np.angle(ifg)\n",
    "\n",
    "# matplotlib plots and save to gif\n",
    "# Save each interferogram's phase as GeoTiff\n",
    "transform = from_origin(xcoor[0],ycoor[0],dx,np.abs(dy))\n",
    "rasterWrite(f'complex_ifg_{ids[0]}.tif',phase,transform,epsg,dtype='float32')"
   ]
  },
  {
   "cell_type": "code",
   "execution_count": 7,
   "metadata": {},
   "outputs": [
    {
     "name": "stdout",
     "output_type": "stream",
     "text": [
      "Streaming: s3://opera-pst-rs-pop1/products/CSLC_S1/OPERA_L2_CSLC-S1A_IW_T071-151219-IW2_VV_20190704T135209Z_v0.1_20230708T134145Z/OPERA_L2_CSLC-S1A_IW_T071-151219-IW2_VV_20190704T135209Z_v0.1_20230708T134145Z.h5\n",
      "Streaming: s3://opera-pst-rs-pop1/products/CSLC_S1/OPERA_L2_CSLC-S1A_IW_T071-151219-IW2_VV_20190716T135210Z_v0.1_20230708T134123Z/OPERA_L2_CSLC-S1A_IW_T071-151219-IW2_VV_20190716T135210Z_v0.1_20230708T134123Z.h5\n"
     ]
    }
   ],
   "source": [
    "cslc1 = read_cslc(path3)\n",
    "cslc2 = read_cslc(path4)\n",
    "\n",
    "xcoor, ycoor, dx, dy, epsg, bounding_polygon, orbit_direction = cslc_info(path3)\n",
    "\n",
    "ifg = cslc1*np.conj(cslc2)\n",
    "phase = np.angle(ifg)\n",
    "\n",
    "# Save each interferogram's phase as GeoTiff\n",
    "transform = from_origin(xcoor[0],ycoor[0],dx,np.abs(dy))\n",
    "rasterWrite(f'complex_ifg_{ids[1]}.tif',phase,transform,epsg,dtype='float32')"
   ]
  }
 ],
 "metadata": {
  "kernelspec": {
   "display_name": "opera_app",
   "language": "python",
   "name": "python3"
  },
  "language_info": {
   "codemirror_mode": {
    "name": "ipython",
    "version": 3
   },
   "file_extension": ".py",
   "mimetype": "text/x-python",
   "name": "python",
   "nbconvert_exporter": "python",
   "pygments_lexer": "ipython3",
   "version": "3.10.8"
  }
 },
 "nbformat": 4,
 "nbformat_minor": 4
}
